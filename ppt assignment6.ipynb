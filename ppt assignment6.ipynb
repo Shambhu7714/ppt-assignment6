{
 "cells": [
  {
   "attachments": {},
   "cell_type": "markdown",
   "metadata": {},
   "source": [
    "Question 1\n",
    "A permutation perm of n + 1 integers of all the integers in the range [0, n] can be represented as a string s of length n where:\n",
    "s[i] == 'I' if perm[i] < perm[i + 1], and\n",
    "s[i] == 'D' if perm[i] > perm[i + 1].\n",
    "Given a string s, reconstruct the permutation perm and return it. If there are multiple valid permutations perm, return **any of them**.\n",
    "Example 1:\n",
    "Input: s = \"IDID\"\n",
    "Output:\n",
    "[0,4,1,3,2]"
   ]
  },
  {
   "cell_type": "code",
   "execution_count": 3,
   "metadata": {},
   "outputs": [
    {
     "name": "stdout",
     "output_type": "stream",
     "text": [
      "[0, 4, 1, 3, 2]\n"
     ]
    }
   ],
   "source": [
    "def re_permutation(s):\n",
    "    n = len(s)\n",
    "    perm = list(range(n + 1))\n",
    "\n",
    "    reconstructed = []\n",
    "    for char in s:\n",
    "        if char == 'I':\n",
    "            reconstructed.append(perm.pop(0))\n",
    "        elif char == 'D':\n",
    "            reconstructed.append(perm.pop())\n",
    "\n",
    "    reconstructed.append(perm[0])\n",
    "    return reconstructed\n",
    "s = \"IDID\"\n",
    "rec_per = re_permutation(s)\n",
    "print(rec_per)"
   ]
  },
  {
   "attachments": {},
   "cell_type": "markdown",
   "metadata": {},
   "source": [
    "Question 2\n",
    "You are given an m x n integer matrix matrix with the following two properties:\n",
    "Each row is sorted in non-decreasing order.\n",
    "The first integer of each row is greater than the last integer of the previous row.\n",
    "Given an integer target, return true *if* target *is in* matrix *or* false *otherwise*.\n",
    "You must write a solution in O(log(m * n)) time complexity.\n",
    "Example 1:-\n",
    "Input:- matrix = [[1,3,5,7],[10,11,16,20],[23,30,34,60]], target = 3\n",
    "Output:- true"
   ]
  },
  {
   "cell_type": "code",
   "execution_count": 4,
   "metadata": {},
   "outputs": [
    {
     "name": "stdout",
     "output_type": "stream",
     "text": [
      "True\n"
     ]
    }
   ],
   "source": [
    "def search_matrix(matrix, target):\n",
    "    m, n = len(matrix), len(matrix[0])\n",
    "    left, right = 0, m * n - 1\n",
    "\n",
    "    while left <= right:\n",
    "        mid = (left + right) // 2\n",
    "        row = mid // n\n",
    "        col = mid % n\n",
    "        if matrix[row][col] == target:\n",
    "            return True\n",
    "        elif matrix[row][col] < target:\n",
    "            left = mid + 1\n",
    "        else:\n",
    "            right = mid - 1\n",
    "\n",
    "    return False\n",
    "matrix = [[1, 3, 5, 7], [10, 11, 16, 20], [23, 30, 34, 60]]\n",
    "target = 3\n",
    "result = search_matrix(matrix, target)\n",
    "print(result)"
   ]
  },
  {
   "attachments": {},
   "cell_type": "markdown",
   "metadata": {},
   "source": [
    "\n",
    "Question 3\n",
    "Given an array of integers arr, return *true if and only if it is a valid mountain array\n",
    "Recall that arr is a mountain array if and only if:\n",
    "arr.length >= 3\n",
    "There exists some i with 0 < i < arr.length - 1 such that:\n",
    "arr[0] < arr[1] < ... < arr[i - 1] < arr[i]\n",
    "arr[i] > arr[i + 1] > ... > arr[arr.length - 1]\n",
    "Example 1:-\n",
    "Input: arr = [2,1]\n",
    "Output:- false"
   ]
  },
  {
   "cell_type": "code",
   "execution_count": 6,
   "metadata": {},
   "outputs": [
    {
     "name": "stdout",
     "output_type": "stream",
     "text": [
      "False\n"
     ]
    }
   ],
   "source": [
    "def val_mnt_arr(arr):\n",
    "    if len(arr) < 3:\n",
    "        return False\n",
    "\n",
    "    n = len(arr)\n",
    "    i = 0\n",
    "    while i + 1 < n and arr[i] < arr[i + 1]:\n",
    "        i += 1\n",
    "\n",
    "    if i == 0 or i == n - 1:\n",
    "        return False\n",
    "\n",
    "    while i + 1 < n and arr[i] > arr[i + 1]:\n",
    "        i += 1\n",
    "\n",
    "    return i == n - 1\n",
    "arr = [2, 1]\n",
    "result = val_mnt_arr(arr)\n",
    "print(result)"
   ]
  },
  {
   "attachments": {},
   "cell_type": "markdown",
   "metadata": {},
   "source": [
    "question 4.\n",
    "Given a binary array nums, return *the maximum length of a contiguous subarray with an equal number of* 0 *and* 1.\n",
    "Example 1:\n",
    "Input: nums = [0,1]\n",
    "Output: 2\n",
    "Explanation:\n",
    "[0, 1] is the longest contiguous subarray with an equal number of 0 and 1."
   ]
  },
  {
   "cell_type": "code",
   "execution_count": 9,
   "metadata": {},
   "outputs": [
    {
     "name": "stdout",
     "output_type": "stream",
     "text": [
      "2\n"
     ]
    }
   ],
   "source": [
    "def find_Max_Length(nums):\n",
    "    max_length = 0\n",
    "    count = 0\n",
    "     # Initial count is 0 at index -1\n",
    "    sum_count = {0: -1} \n",
    "\n",
    "    for i in range(len(nums)):\n",
    "        count += 1 if nums[i] == 1 else -1\n",
    "\n",
    "        if count in sum_count:\n",
    "            length = i - sum_count[count]\n",
    "            max_length = max(max_length, length)\n",
    "        else:\n",
    "            sum_count[count] = i\n",
    "\n",
    "    return max_length\n",
    "nums = [0, 1]\n",
    "result = find_Max_Length(nums)\n",
    "print(result)"
   ]
  },
  {
   "attachments": {},
   "cell_type": "markdown",
   "metadata": {},
   "source": [
    "Question 5\n",
    "The product sum of two equal-length arrays a and b is equal to the sum of a[i] * b[i] for all 0 <= i < a.length (0-indexed)\n",
    "- For example, if a = [1,2,3,4] and b = [5,2,3,1], the product sum would be 1*5 + 2*2 + 3*3 + 4*1 = 22.\n",
    "Given two arrays nums1 and nums2 of length n, return *the **minimum product sum if you are allowed to rearrange the order of the elements in  nums1.\n",
    "Example 1:\n",
    "Input: nums1 = [5,3,4,2], nums2 = [4,2,2,5]\n",
    "Output: 40\n",
    "Explanation:\n",
    "We can rearrange nums1 to become [3,5,4,2]. The product sum of [3,5,4,2] and [4,2,2,5] is 3*4 + 5*2 + 4*2 + 2*5 = 40."
   ]
  },
  {
   "cell_type": "code",
   "execution_count": 11,
   "metadata": {},
   "outputs": [
    {
     "name": "stdout",
     "output_type": "stream",
     "text": [
      "40\n"
     ]
    }
   ],
   "source": [
    "def min_Product_Sum(nums1, nums2):\n",
    "    nums1.sort()\n",
    "    nums2.sort(reverse=True)\n",
    "\n",
    "    min_product_sum = 0\n",
    "    for i in range(len(nums1)):\n",
    "        min_product_sum += nums1[i] * nums2[i]\n",
    "\n",
    "    return min_product_sum\n",
    "nums1 = [5, 3, 4, 2]\n",
    "nums2 = [4, 2, 2, 5]\n",
    "result = min_Product_Sum(nums1, nums2)\n",
    "print(result)"
   ]
  },
  {
   "attachments": {},
   "cell_type": "markdown",
   "metadata": {},
   "source": [
    "Question 6\n",
    "An integer array original is transformed into a doubled array changed by appending twice the value of every element in original, and then randomly shuffling the resulting array.\n",
    "Given an array changed, return original if changed is a doubled array. If changed is not a doubled array, return an empty array. The elements in original may be returned in any order.\n",
    "Example 1\n",
    "Input:changed = [1,3,4,2,6,8]\n",
    "Output: [1,3,4]\n",
    "Explanation: One possible original array could be [1,3,4]:\n",
    "Twice the value of 1 is 1 * 2 = 2.\n",
    "Twice the value of 3 is 3 * 2 = 6.\n",
    "Twice the value of 4 is 4 * 2 = 8.\n",
    "Other original arrays could be [4,3,1] or [3,1,4]."
   ]
  },
  {
   "cell_type": "code",
   "execution_count": 17,
   "metadata": {},
   "outputs": [
    {
     "name": "stdout",
     "output_type": "stream",
     "text": [
      "[]\n"
     ]
    }
   ],
   "source": [
    "def find_Original_Array(changed):\n",
    "    count = {}\n",
    "    for num in changed:\n",
    "        count[num] = count.get(num, 0) + 1\n",
    "        if num % 2 == 1 or count[num] > count.get(num // 2, 0):\n",
    "            return []\n",
    "\n",
    "    original = []\n",
    "    changed.sort()\n",
    "    for num in changed:\n",
    "        original.append(num // 2)\n",
    "        count[num // 2] -= 1\n",
    "        if count[num // 2] < 0 or num // 2 in original:\n",
    "            return []\n",
    "\n",
    "    return original\n",
    "changed = [1, 3, 4, 2, 6, 8]\n",
    "result = find_Original_Array(changed)\n",
    "print(result)"
   ]
  },
  {
   "attachments": {},
   "cell_type": "markdown",
   "metadata": {},
   "source": [
    "question 7.\n",
    "Given a positive integer n, generate an n x n matrix filled with elements from 1 to n2 in spiral order.\n",
    "Example 1:-\n",
    "Input: n = 3\n",
    "Output: [[1,2,3],[8,9,4],[7,6,5]]"
   ]
  },
  {
   "cell_type": "code",
   "execution_count": 18,
   "metadata": {},
   "outputs": [
    {
     "name": "stdout",
     "output_type": "stream",
     "text": [
      "[[1, 2, 3], [8, 9, 4], [7, 6, 5]]\n"
     ]
    }
   ],
   "source": [
    "def generate_Matrix(n):\n",
    "    matrix = [[0] * n for _ in range(n)]\n",
    "    row_start, row_end = 0, n - 1\n",
    "    col_start, col_end = 0, n - 1\n",
    "    num = 1\n",
    "\n",
    "    while num <= n * n:\n",
    "        # Fill top row\n",
    "        for j in range(col_start, col_end + 1):\n",
    "            matrix[row_start][j] = num\n",
    "            num += 1\n",
    "        row_start += 1\n",
    "\n",
    "        # Fill right column\n",
    "        for i in range(row_start, row_end + 1):\n",
    "            matrix[i][col_end] = num\n",
    "            num += 1\n",
    "        col_end -= 1\n",
    "\n",
    "        # Fill bottom row\n",
    "        for j in range(col_end, col_start - 1, -1):\n",
    "            matrix[row_end][j] = num\n",
    "            num += 1\n",
    "        row_end -= 1\n",
    "\n",
    "        # Fill left column\n",
    "        for i in range(row_end, row_start - 1, -1):\n",
    "            matrix[i][col_start] = num\n",
    "            num += 1\n",
    "        col_start += 1\n",
    "\n",
    "    return matrix\n",
    "n = 3\n",
    "result = generate_Matrix(n)\n",
    "print(result)\n"
   ]
  },
  {
   "attachments": {},
   "cell_type": "markdown",
   "metadata": {},
   "source": [
    "Question 8\n",
    "Given two [sparse matrices] mat1 of size m x k and mat2 of size k x n, return the result of mat1 x mat2. You may assume that multiplication is always possible.\n",
    "Example 1:-\n",
    "Input: mat1 = [[1,0,0],[-1,0,3]], mat2 = [[7,0,0],[0,0,0],[0,0,1]]\n",
    "Output:\n",
    "[[7,0,0],[-7,0,3]]"
   ]
  },
  {
   "cell_type": "code",
   "execution_count": 19,
   "metadata": {},
   "outputs": [
    {
     "name": "stdout",
     "output_type": "stream",
     "text": [
      "[[7, 0, 0], [-7, 0, 3]]\n"
     ]
    }
   ],
   "source": [
    "def multiply(mat1, mat2):\n",
    "    m, k = len(mat1), len(mat1[0])\n",
    "    n = len(mat2[0])\n",
    "    mat2_transpose = [[mat2[j][i] for j in range(k)] for i in range(n)]\n",
    "\n",
    "    result = [[0] * n for _ in range(m)]\n",
    "\n",
    "    for i in range(m):\n",
    "        for j in range(n):\n",
    "            sum = 0\n",
    "            for x in range(k):\n",
    "                sum += mat1[i][x] * mat2_transpose[j][x]\n",
    "            if sum != 0:\n",
    "                result[i][j] = sum\n",
    "\n",
    "    return result\n",
    "mat1 = [[1, 0, 0], [-1, 0, 3]]\n",
    "mat2 = [[7, 0, 0], [0, 0, 0], [0, 0, 1]]\n",
    "result = multiply(mat1, mat2)\n",
    "print(result)"
   ]
  }
 ],
 "metadata": {
  "kernelspec": {
   "display_name": "Python 3",
   "language": "python",
   "name": "python3"
  },
  "language_info": {
   "codemirror_mode": {
    "name": "ipython",
    "version": 3
   },
   "file_extension": ".py",
   "mimetype": "text/x-python",
   "name": "python",
   "nbconvert_exporter": "python",
   "pygments_lexer": "ipython3",
   "version": "3.10.11"
  },
  "orig_nbformat": 4
 },
 "nbformat": 4,
 "nbformat_minor": 2
}
